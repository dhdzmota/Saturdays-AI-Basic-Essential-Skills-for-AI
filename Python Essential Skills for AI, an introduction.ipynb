{
 "cells": [
  {
   "cell_type": "markdown",
   "metadata": {},
   "source": [
    "# Python Essential Skills"
   ]
  },
  {
   "cell_type": "markdown",
   "metadata": {},
   "source": [
    "## Part 0. Jupyter Notebooks ( fast intro)\n",
    "---\n",
    "The Jupyter notebook is an open-source web application that allows you to create and share documents that contain live code, equations, visualizations and narrative text.\n",
    "\n",
    "- **Text Cells**: to edit an existing text cell click on it (Markdown)\n",
    "- **Code Cells**: to run the code in a cell click \"Play\" button. To edit an existing code cell, click on it. (Ctrl+ENTER/COMMAND+ENTER)"
   ]
  },
  {
   "cell_type": "markdown",
   "metadata": {},
   "source": [
    "## Part 1. Intro to Python\n",
    "---\n",
    "As seen in the previous lecture python is a programming language created by Guido van Rossum in the early 90s. It is now one of the most popular languages in existence.\n",
    "\n",
    "Characteristics: \n",
    "    - It emphasizes code readability.\n",
    "    - Is an interpreted language.\n",
    "    - It is case sensitive.\n",
    "    - Indentation plays a major role.\n",
    "    \n",
    "### Displaying messages\n",
    "\n",
    "Programming tutorials have started with a little program called \"Hello, World!\". It shows that you can make a computer do almost anything. Even print any message. In python we use the reseved word (that works as a function) \"print\""
   ]
  },
  {
   "cell_type": "code",
   "execution_count": null,
   "metadata": {},
   "outputs": [],
   "source": [
    "# Function to print \n",
    "\n",
    "print('Hello, world')\n",
    "\n",
    "# Function: print\n",
    "# Argument: (arg)\n"
   ]
  },
  {
   "cell_type": "markdown",
   "metadata": {},
   "source": [
    "What can we analyze here?\n",
    "\n",
    "The combination of a function and parenthesis with the argument is a function call. \n",
    "\n",
    "Often in programming, it is usual to describe the code you are working with. Comments can be performed with the \"#\" character."
   ]
  },
  {
   "cell_type": "markdown",
   "metadata": {},
   "source": [
    "It is possible to display all the data types:\n",
    "(The print function can recieve various arguments separated by a comma)."
   ]
  },
  {
   "cell_type": "code",
   "execution_count": null,
   "metadata": {},
   "outputs": [],
   "source": [
    "# print(float, integer, complex, Boolean, String)\n",
    "print(2.3, 4, complex(3,1), True, 'hello')"
   ]
  },
  {
   "cell_type": "markdown",
   "metadata": {},
   "source": [
    "### Arithmetic Expressions\n",
    "There are a handful of operations that can be done with the arithmetic expressions in python (seven basic operations)\n",
    "\n",
    "|      Operation     \t| Symbol \t|         Example        \t|\n",
    "|:------------------:\t|:------:\t|:----------------------\t|\n",
    "|        Power       \t|   **   \t|       5**2 == 25       \t|\n",
    "|   Multiplication   \t|    *   \t|        2*3 == 6        \t|\n",
    "|      Division      \t|    /   \t| 14/3 == 4.666666666666667 |\n",
    "|  Integer division  \t|   //   \t|       14//3 == 4       \t|\n",
    "| Remainder (modulo) \t|    %   \t|        14%3 == 2       \t|\n",
    "|      Addition      \t|    +   \t|        1+2 == 3        \t|\n",
    "|     Subtraction    \t|    -   \t|        4-3 == 1        \t|\n"
   ]
  },
  {
   "cell_type": "code",
   "execution_count": null,
   "metadata": {},
   "outputs": [],
   "source": [
    "print(5**2, 2*3, 14/3, 14//3, 14%3, 1+2, 4-3)"
   ]
  },
  {
   "cell_type": "markdown",
   "metadata": {},
   "source": [
    "### Arithmetic Expressions... with text?\n",
    "\n",
    "It is possible to use arithmetic expressions with text variables"
   ]
  },
  {
   "cell_type": "code",
   "execution_count": null,
   "metadata": {},
   "outputs": [],
   "source": [
    "# We can add text  (concatenaded)\n",
    "print('Hello'+'World')\n",
    "\n",
    "# We can \"multiply\" a number with text\n",
    "print('Hello'*3)"
   ]
  },
  {
   "cell_type": "code",
   "execution_count": null,
   "metadata": {},
   "outputs": [],
   "source": [
    "print('5 + 4 is', 5+4)"
   ]
  },
  {
   "cell_type": "markdown",
   "metadata": {},
   "source": [
    "## Part 2. Simple Data Types and Variables\n",
    "---\n",
    "Variable Assignment\n",
    "\n",
    "Variables are used to store information to be referenced and manipulated in a computer program, they provide a way of labeling data with a descriptive name (very important!) so our programs can be undrstood more clearly by the reader and ourselves. It is helpful to think of varialbes as containers that hold information. The equal sign is used to assign a value to a variable."
   ]
  },
  {
   "cell_type": "markdown",
   "metadata": {},
   "source": [
    "As seen before, to write a string we use ' ' or \" \". However these only works for a single codeline. To use more lines we can use three characters, eigher \"\"\" \"\"\" or ''' '''."
   ]
  },
  {
   "cell_type": "code",
   "execution_count": null,
   "metadata": {},
   "outputs": [],
   "source": [
    "sum_text = '5 + 4 is' # This data type is a string\n",
    "sum_operation = 5 + 4 # This data type is an integer\n",
    "\n",
    "print(sum_text,sum_operation)"
   ]
  },
  {
   "cell_type": "code",
   "execution_count": null,
   "metadata": {},
   "outputs": [],
   "source": [
    "# To check the type, it is possible to use the reseved word type:\n",
    "print(type(sum_text),type(sum_operation))"
   ]
  },
  {
   "cell_type": "markdown",
   "metadata": {},
   "source": [
    "It is possible to do more things with text variables."
   ]
  },
  {
   "cell_type": "code",
   "execution_count": null,
   "metadata": {},
   "outputs": [],
   "source": [
    "# Text lines\n",
    "\n",
    "#\\n is used for newline, \\t is used for tab\n",
    "text_lines = 'First line.\\nSecond\\tLine'\n",
    "print(text_lines)"
   ]
  },
  {
   "cell_type": "code",
   "execution_count": null,
   "metadata": {},
   "outputs": [],
   "source": [
    "#Raw string\n",
    "raw_string_text_lines = r'First line.\\nSecond\\tLine'\n",
    "print(raw_string_text_lines)"
   ]
  },
  {
   "cell_type": "markdown",
   "metadata": {},
   "source": [
    "It is often helpful to write most of the variables in one string datatype, even if it contains numerical variables."
   ]
  },
  {
   "cell_type": "code",
   "execution_count": null,
   "metadata": {},
   "outputs": [],
   "source": [
    "better_sum_text_v1 = '5 + 4 is {0}'.format(sum_operation)\n",
    "print(better_sum_text_v1)\n",
    "\n",
    "better_sum_text_v2 = '5 + 4 is %i'\n",
    "print(better_sum_text_v2 % (sum_operation))\n",
    "\n",
    "# F-STRINGS!\n",
    "better_sum_text_v3 = f'5 + 4 is {sum_operation}'\n",
    "print(better_sum_text_v3)"
   ]
  },
  {
   "cell_type": "code",
   "execution_count": null,
   "metadata": {},
   "outputs": [],
   "source": [
    "# What else can we do with text?\n",
    "\n",
    "big_text = '''Many scientific packages require a specific version of Python to run. It’s difficult to keep\n",
    "various Python installations on one computer from interacting and breaking, and harder\n",
    "to keep them up-to-date. Anaconda Distribution makes management of multiple Python\n",
    "versions on one computer easier, and provides a large collection of highly optimized,\n",
    "commonly used data science libraries to get you started faster.'''\n",
    "\n",
    "# Text indexing\n",
    "\n",
    "# First character\n",
    "print(big_text[0])\n",
    "# Second character\n",
    "print(big_text[1])\n",
    "\n",
    "# 18th character\n",
    "print(big_text[18])\n",
    "\n",
    "# Last character\n",
    "print(big_text[-1])\n",
    "\n",
    "# Text slicing (obtain a substring)\n",
    "# From the first to the 17th character\n",
    "print(big_text[:18])\n",
    "\n",
    "# From the 10th last to the second last\n",
    "print(big_text[-10:-1])\n",
    "\n",
    "# From the 10th last to the last\n",
    "print(big_text[-10:])\n",
    "\n",
    "# Errors  (index out of range)\n",
    "#print(big_text[2000])"
   ]
  },
  {
   "cell_type": "code",
   "execution_count": null,
   "metadata": {},
   "outputs": [],
   "source": [
    "# Size of a string:\n",
    "text_lenght = len(big_text)\n",
    "print(text_lenght)"
   ]
  },
  {
   "cell_type": "code",
   "execution_count": null,
   "metadata": {},
   "outputs": [],
   "source": [
    "sepparating_by_dots = big_text.split('.')\n",
    "print(sepparating_by_dots)"
   ]
  },
  {
   "cell_type": "markdown",
   "metadata": {},
   "source": [
    "## Part 3. Simple Data Structures\n",
    "### Lists\n",
    "Python has a number of compund data types. They are used to group together other values or variables. The most versatile is the *list*. These data structures are composed of a list of comma-separated values (called items) between **square brackets**."
   ]
  },
  {
   "cell_type": "code",
   "execution_count": null,
   "metadata": {},
   "outputs": [],
   "source": [
    "squared_numbers = [1,4,9,16,25]\n",
    "squared_numbers"
   ]
  },
  {
   "cell_type": "code",
   "execution_count": null,
   "metadata": {},
   "outputs": [],
   "source": [
    "# Indexing and slicing can be also done with lists:\n",
    "print(squared_numbers[0])\n",
    "print(squared_numbers[1])\n",
    "print(squared_numbers[-1])\n",
    "print(squared_numbers[-3:]) \n",
    "# Slicing returns a new list containing the requested elements"
   ]
  },
  {
   "cell_type": "code",
   "execution_count": null,
   "metadata": {},
   "outputs": [],
   "source": [
    "# Lists can be concatenated\n",
    "other_numbers = [1,5,-9]\n",
    "all_numbers = squared_numbers + other_numbers\n",
    "print(all_numbers)"
   ]
  },
  {
   "cell_type": "code",
   "execution_count": null,
   "metadata": {},
   "outputs": [],
   "source": [
    "# It is possible to change the content of a list\n",
    "# By indexing\n",
    "all_numbers[0] = 1000\n",
    "print(all_numbers)\n",
    "\n",
    "# Or by slicing\n",
    "all_numbers[1:4] = ['a','b',True,'2']\n",
    "print(all_numbers)\n",
    "# It is possible to have lists with all data types"
   ]
  },
  {
   "cell_type": "code",
   "execution_count": null,
   "metadata": {},
   "outputs": [],
   "source": [
    "# Adding new elements to a list can be done with a method called append()\n",
    "all_numbers.append(-3.1416)\n",
    "all_numbers"
   ]
  },
  {
   "cell_type": "code",
   "execution_count": null,
   "metadata": {},
   "outputs": [],
   "source": [
    "# Lenght of a list\n",
    "len(all_numbers)"
   ]
  },
  {
   "cell_type": "code",
   "execution_count": null,
   "metadata": {},
   "outputs": [],
   "source": [
    "# Remove a value of the list\n",
    "all_numbers.remove('a')\n",
    "all_numbers"
   ]
  },
  {
   "cell_type": "code",
   "execution_count": null,
   "metadata": {},
   "outputs": [],
   "source": [
    "# Remove an element with an specific index\n",
    "all_numbers.pop(0)\n",
    "all_numbers"
   ]
  },
  {
   "cell_type": "markdown",
   "metadata": {},
   "source": [
    "It is even possible to have a list of lists!"
   ]
  },
  {
   "cell_type": "code",
   "execution_count": null,
   "metadata": {},
   "outputs": [],
   "source": [
    "l1 = ['a','b', 'c', 'd']\n",
    "l2 = [1,2,3]\n",
    "\n",
    "nested_list = [l1,l2]\n",
    "nested_list"
   ]
  },
  {
   "cell_type": "code",
   "execution_count": null,
   "metadata": {},
   "outputs": [],
   "source": [
    "# The first element of the nested list is the l1 list\n",
    "print(nested_list[0])\n",
    "\n",
    "# How can we obtain the first element of l2 by indexing the list 'nested_list'\n",
    "print(nested_list)"
   ]
  },
  {
   "cell_type": "code",
   "execution_count": null,
   "metadata": {},
   "outputs": [],
   "source": [
    "# We can have an empty list\n",
    "empty = []"
   ]
  },
  {
   "cell_type": "markdown",
   "metadata": {},
   "source": [
    "Other Data Structures:\n",
    "    - lists: Enclosed in square brackets [value1,value2,...]\n",
    "    - tuples: Enclosed in parentheses (value1,value2,...)\n",
    "    - sets: Enclosed in curly brackets {value1,value2,...}\n",
    "    - dictionary: Built with curly brackets {key1:value1,key2:value2}"
   ]
  },
  {
   "cell_type": "markdown",
   "metadata": {},
   "source": [
    "### Tuples\n",
    "Tuples are similar to the list data structure, however the manipulation is faster because they are immutable.\n",
    "\n",
    "Perks:\n",
    "    - Faster than lists\n",
    "    - Protect the data"
   ]
  },
  {
   "cell_type": "code",
   "execution_count": null,
   "metadata": {},
   "outputs": [],
   "source": [
    "# To create a tuple, one can use the parenthesis\n",
    "first_tuple = (1,5,3,'a')\n",
    "first_tuple"
   ]
  },
  {
   "cell_type": "code",
   "execution_count": null,
   "metadata": {},
   "outputs": [],
   "source": [
    "# It is possible to create without parenthesis\n",
    "second_tuple = 'a','b','c',1\n",
    "second_tuple"
   ]
  },
  {
   "cell_type": "code",
   "execution_count": null,
   "metadata": {},
   "outputs": [],
   "source": [
    "# We can unpack the information on a tuple into variables\n",
    "t1,t2,t3,t4 = second_tuple\n",
    "# This is called Sequence unpacking\n",
    "print(t3)"
   ]
  },
  {
   "cell_type": "code",
   "execution_count": null,
   "metadata": {},
   "outputs": [],
   "source": [
    "# A tuple with a single element can be created with a coma:\n",
    "one_element_tuple = 1,\n",
    "one_element_tuple"
   ]
  },
  {
   "cell_type": "code",
   "execution_count": null,
   "metadata": {},
   "outputs": [],
   "source": [
    "# An empty tuple can be created:\n",
    "empty_tuple  = ()\n",
    "empty_tuple"
   ]
  },
  {
   "cell_type": "code",
   "execution_count": null,
   "metadata": {},
   "outputs": [],
   "source": [
    "# We can concatenate tuples too\n",
    "large_tuple = first_tuple+second_tuple\n",
    "large_tuple"
   ]
  },
  {
   "cell_type": "markdown",
   "metadata": {},
   "source": [
    "### Sets\n",
    "Sets are like lists but cannot have duplicated values. They are used to build a sequence of unique items (such as identifiers)"
   ]
  },
  {
   "cell_type": "code",
   "execution_count": null,
   "metadata": {},
   "outputs": [],
   "source": [
    "tuple_to_set = set(large_tuple)\n",
    "tuple_to_set"
   ]
  },
  {
   "cell_type": "code",
   "execution_count": null,
   "metadata": {},
   "outputs": [],
   "source": [
    "first_set = {1,3, 5}\n",
    "second_set = {'a', 5}"
   ]
  },
  {
   "cell_type": "code",
   "execution_count": null,
   "metadata": {},
   "outputs": [],
   "source": [
    "# Union of sets\n",
    "print('union',first_set|second_set)\n",
    "\n",
    "# Intersection of sets \n",
    "print('intersection',first_set&second_set)\n",
    "\n",
    "# Difference of sets\n",
    "print('difference', first_set-second_set)\n",
    "\n",
    "# Symmetric difference\n",
    "print('Sym Diff', first_set^second_set)\n",
    "\n",
    "# Subset\n",
    "print('Subset', second_set<tuple_to_set)"
   ]
  },
  {
   "cell_type": "code",
   "execution_count": null,
   "metadata": {},
   "outputs": [],
   "source": [
    "# An empty set must be done with the reserved word\n",
    "empty_set = set()\n",
    "empty_set"
   ]
  },
  {
   "cell_type": "markdown",
   "metadata": {},
   "source": [
    "### Dictionary\n",
    "A dictionary is a non-sorted sequence of items. Each item is a pair made of a key and a value. They are found in other languages as 'associative memories' because of the association of the key with its value. Keys are unique for a dictionary."
   ]
  },
  {
   "cell_type": "code",
   "execution_count": null,
   "metadata": {},
   "outputs": [],
   "source": [
    "telephones = {'Daniel': 10540340, 'Nayelhi':1543456,'Ines':34215323}\n",
    "telephones"
   ]
  },
  {
   "cell_type": "code",
   "execution_count": null,
   "metadata": {},
   "outputs": [],
   "source": [
    "# By giving the key into the dictionary (as a value between a squared bracket)\n",
    "# we obtain the value\n",
    "print(telephones['Daniel'])"
   ]
  },
  {
   "cell_type": "code",
   "execution_count": null,
   "metadata": {},
   "outputs": [],
   "source": [
    "# We can add more values into the dictionary as a key equal to a value\n",
    "telephones['Angie'] = 96543223\n",
    "telephones"
   ]
  },
  {
   "cell_type": "code",
   "execution_count": null,
   "metadata": {},
   "outputs": [],
   "source": [
    "# It is possible to access to each key\n",
    "telephones.keys()"
   ]
  },
  {
   "cell_type": "code",
   "execution_count": null,
   "metadata": {},
   "outputs": [],
   "source": [
    "# or only the values\n",
    "telephones.values()"
   ]
  },
  {
   "cell_type": "code",
   "execution_count": null,
   "metadata": {},
   "outputs": [],
   "source": [
    "# We can delete keys\n",
    "del telephones['Daniel']\n",
    "print(telephones)"
   ]
  },
  {
   "cell_type": "code",
   "execution_count": null,
   "metadata": {},
   "outputs": [],
   "source": [
    "# We can create an empty dictionary \n",
    "empty_dictionary = {}\n",
    "empty_dictionary"
   ]
  },
  {
   "cell_type": "markdown",
   "metadata": {},
   "source": [
    "## Part 4. Conditional Statements with comparisions\n",
    "### Comparision \n",
    "A comparison is the act of evaluating two or more expressions and determining the relevant characteristics of each. The result of a comparison typically yields a True or False value, that is a boolean evaluation.\n",
    "\n",
    "Operators to make comparisons in python:\n",
    "\n",
    "|  Operation     \t    | Description \t                                                                               |Ex|\n",
    "|:---------------------:|:--------------------------------------------------------------------------------------------:|:-----|\n",
    "| ==                    | If the values of expresions are equal   \t                                                   |a == b|\n",
    "| !=                   \t| If the values of expresions are not equal  \t                                               |a != b|\n",
    "| >                     | If the value of the left operand is greater than the value of the right operand   \t       | a > b|\n",
    "| <  \t                | If the value of the left operand is less than the value of the right operand   \t           |a < b |\n",
    "| >=                  \t| If the value of the left operand is greater than or equal than the value of the right operand|a >= b|\n",
    "| <=                    | If the value of the left operand is less than or equal than the value of the right operand   |a <= b|\n",
    "\n",
    "\n",
    "We can compare two values for a and b"
   ]
  },
  {
   "cell_type": "code",
   "execution_count": null,
   "metadata": {},
   "outputs": [],
   "source": [
    "a = float(input('Write a number '))\n",
    "b = float(input('Write another number '))\n",
    "\n",
    "print('')\n",
    "print('Equal:', a == b)\n",
    "print('Not Equal:',a != b)\n",
    "print('Greater than:',a > b)\n",
    "print('Less than:',a < b)\n",
    "print('Greater or equal than:',a >= b)\n",
    "print('Less or equal than:',a <= b)"
   ]
  },
  {
   "cell_type": "code",
   "execution_count": null,
   "metadata": {},
   "outputs": [],
   "source": [
    "# Interval comparisson \n",
    "\n",
    "inf_limit = -1000\n",
    "sup_limit = 1000\n",
    "\n",
    "print(inf_limit < a and a < sup_limit)\n",
    "\n",
    "print(inf_limit < a < sup_limit)"
   ]
  },
  {
   "cell_type": "code",
   "execution_count": null,
   "metadata": {},
   "outputs": [],
   "source": [
    "# It is possible to compare strings too...\n",
    "letter_1 = input('Write something ')\n",
    "letter_2 = input('Write another thing ')\n",
    "\n",
    "\n",
    "print('')\n",
    "print('Equal:', letter_1 == letter_2)\n",
    "print('Not Equal:',letter_1 != letter_2)\n",
    "print('Greater than:',letter_1 > letter_2)\n",
    "print('Less than:',letter_1 < letter_2)\n",
    "print('Greater or equal than:',letter_1 >= letter_2)\n",
    "print('Less or equal than:',letter_1 <= letter_2)\n",
    "\n",
    "# Characters in both strings are compared one by one\n",
    "# When different characters are found then their Unicode value is compared"
   ]
  },
  {
   "cell_type": "markdown",
   "metadata": {},
   "source": [
    "### Conditional statements:\n",
    "A conditional statement performs different computations or actions depending on whether a specific Boolean constraint evaluates True or False. It is handled by IF statements. \n",
    "\n",
    "Usually, If statements body must be indented, this is not always true...\n",
    "\n",
    "- If [a condition is satisfied] then do [action1]\n",
    "- else if (elif) [another condition is satisfied] then do [action2]\n",
    "- else if (elif) ....\n",
    "- elif...\n",
    "- elif...\n",
    "- else [if none of the above conditions are satisfied] then do [final_action] "
   ]
  },
  {
   "cell_type": "code",
   "execution_count": null,
   "metadata": {},
   "outputs": [],
   "source": [
    "value_to_compare = int(input('Enter an integer (negative or positive): '))\n",
    "\n",
    "if value_to_compare < 0:\n",
    "    print('Value is negative')\n",
    "elif value_to_compare == 0:\n",
    "    print('Value is zero')\n",
    "elif value_to_compare == 1:\n",
    "    print('Value is one')\n",
    "else:\n",
    "    print('Value is greater than one')\n",
    "\n",
    "# There can be zero or more elif expressions.\n",
    "# else part is optional"
   ]
  },
  {
   "cell_type": "code",
   "execution_count": null,
   "metadata": {},
   "outputs": [],
   "source": [
    "# How do we compare these have the same elements?\n",
    "\n",
    "# Hint: they have the same elements\n",
    "list1 = ['a','3d','2',2]\n",
    "list2 = ['3d', 'a', 2, '2']\n",
    "\n",
    "if list1 == list2: print('Equal')\n",
    "elif list1 != list2: print('Not Equal')\n"
   ]
  },
  {
   "cell_type": "code",
   "execution_count": null,
   "metadata": {},
   "outputs": [],
   "source": [
    "# Use other data structure!\n",
    "\n",
    "# Multiple assignment\n",
    "set1, set2 = set(list1), set(list2)\n",
    "\n",
    "if set1 == set2: print('Equal')\n",
    "else: print('Not Equal')\n",
    "    \n",
    "# This will only work with lists that have unique elements (in any order)"
   ]
  },
  {
   "cell_type": "markdown",
   "metadata": {},
   "source": [
    "#### Multiple conditions\n",
    "\n",
    "And, or, not.\n",
    "\n",
    "##### And\n",
    "\n",
    "|  A   \t|    B \t || A and B  |\n",
    "|:-----:|:------:||:--------:|\n",
    "|F|F||F|\n",
    "|F|T||F|\n",
    "|T|F||F|\n",
    "|T|T||T|\n",
    "\n",
    "##### Or\n",
    "|  A   \t|    B \t | A or B  |\n",
    "|:-----:|:------:|:--------:|\n",
    "|F|F|F|\n",
    "|F|T|T|\n",
    "|T|F|T|\n",
    "|T|T|T|\n",
    "\n",
    "##### Not\n",
    "|  A   \t| Not A  |\n",
    "|:-----:|:--------:|\n",
    "|F|T|\n",
    "|T|F|\n",
    "\n"
   ]
  },
  {
   "cell_type": "markdown",
   "metadata": {},
   "source": [
    "## Part 5. Loops\n",
    "\n",
    "#### While statement\n",
    "The while statement is used for repeated execution as long as an expression is true. This expression repeatedly tests the epression, and *while* it is true, executes the expressions. When the expression is no longer true, an 'else' clause can be written.\n",
    "\n",
    "- while [a condition is satisfied] then do [actions]\n",
    "- else [do something else]\n",
    "\n",
    "(one way to think about it is as an if/else construct with respect to the condition)\n",
    "\n",
    "\n",
    "What can be used as condition? \n",
    "- Conditional Statements\n",
    "- Any non zero value  (zero is false)\n",
    "- Any string, list or sequence with a non-zero lenght (empty list is false)"
   ]
  },
  {
   "cell_type": "code",
   "execution_count": null,
   "metadata": {},
   "outputs": [],
   "source": [
    "number = 5\n",
    "while number:\n",
    "    print (number)\n",
    "    number -= 1 # Easy way to decrease the value of the number variable by 1.\n",
    "    # This is the same as actualizing the value of the variable number\n",
    "    # to the value_of_number - 1. number = number-1\n",
    "else:\n",
    "    print (\"Reached the number zero... sorry\")"
   ]
  },
  {
   "cell_type": "code",
   "execution_count": null,
   "metadata": {},
   "outputs": [],
   "source": [
    "# We can use the break statement to terminate the loop\n",
    "# without executing the else clause\n",
    "\n",
    "number = 5\n",
    "while number:\n",
    "    print (number)\n",
    "    number -= 1\n",
    "    if number == 2:\n",
    "        break\n",
    "else:\n",
    "    print (\"Reached the number zero... sorry\")"
   ]
  },
  {
   "cell_type": "markdown",
   "metadata": {},
   "source": [
    "#### For statement\n",
    "Python for statement iterates over the items of any sequence (or any iterable object) in the order that they appear. When the items are exhausted an 'else' clause can be also written. \n",
    "\n",
    "- for [each element] in [an iterable], do something\n",
    "- else [do something else...]"
   ]
  },
  {
   "cell_type": "code",
   "execution_count": null,
   "metadata": {},
   "outputs": [],
   "source": [
    "all_numbers"
   ]
  },
  {
   "cell_type": "code",
   "execution_count": null,
   "metadata": {},
   "outputs": [],
   "source": [
    "for element in all_numbers:\n",
    "    print(element, end = ', ')\n",
    "else:\n",
    "    print('done.')"
   ]
  },
  {
   "cell_type": "code",
   "execution_count": null,
   "metadata": {},
   "outputs": [],
   "source": [
    "# We can fill and modify lists\n",
    "\n",
    "# Integer list\n",
    "str_list = []\n",
    "\n",
    "\n",
    "# Be Careful! Never modify a list that you are iterating in, this can cause\n",
    "# wierd errors!\n",
    "\n",
    "# To solve this it is possible to create a slice of the entire list\n",
    "# (this generates a copy)\n",
    "for thing in all_numbers[:]:\n",
    "    if isinstance(thing,str):\n",
    "        str_list.append(thing)\n",
    "        all_numbers.remove(thing)\n",
    "    elif isinstance(thing,bool):\n",
    "        all_numbers.remove(thing)\n",
    "else:\n",
    "    print('Done with the \"for loop\"')\n",
    "\n",
    "print(all_numbers)\n",
    "print(str_list)"
   ]
  },
  {
   "cell_type": "code",
   "execution_count": null,
   "metadata": {},
   "outputs": [],
   "source": [
    "# The else expressions can be useful if you are looking\n",
    "# for something in the for loop and do not find it\n",
    "trial_list = [8,9,2,3,6,4,2,1]\n",
    "for number in trial_list:\n",
    "    if number == 5:\n",
    "        print('Obtained the value')\n",
    "        break\n",
    "else: \n",
    "    print('There is no value 5')\n",
    "    trial_list.append(5)\n",
    "trial_list"
   ]
  },
  {
   "cell_type": "code",
   "execution_count": null,
   "metadata": {},
   "outputs": [],
   "source": [
    "# It is possible to use a function range to generate an iterable\n",
    "# This can be helpful to access the elements of a list by the index\n",
    "\n",
    "for i in range(10):\n",
    "    print(i)\n"
   ]
  },
  {
   "cell_type": "markdown",
   "metadata": {},
   "source": [
    "Actually range() function behaves as a list, but it is not. It only returns the successive items of the desired sequence when you iterate over it. But it does not make a list, which saves space."
   ]
  },
  {
   "cell_type": "code",
   "execution_count": null,
   "metadata": {},
   "outputs": [],
   "source": [
    "for i in range(-2,10):\n",
    "    print(i, end=', ')\n",
    "    \n",
    "print('\\n')\n",
    "\n",
    "for i in range(-2,10,2):\n",
    "    print(i, end=', ')"
   ]
  },
  {
   "cell_type": "code",
   "execution_count": null,
   "metadata": {},
   "outputs": [],
   "source": [
    "new_numbers = list(range(-5,50,2))\n",
    "print(new_numbers)"
   ]
  },
  {
   "cell_type": "code",
   "execution_count": null,
   "metadata": {},
   "outputs": [],
   "source": [
    "# by using len(new_numbers) we are determining the lenght of the list\n",
    "\n",
    "# We can make a code to obtain the squared number of each element from the\n",
    "# new all_numbers list, and also print their position. This values can be\n",
    "# saved in another list\n",
    "\n",
    "squared_new_numbers = []\n",
    "for i in range(len(new_numbers)):\n",
    "    print(i,new_numbers[i], new_numbers[i]**2)\n",
    "    squared_new_numbers.append(new_numbers[i]**2)"
   ]
  },
  {
   "cell_type": "code",
   "execution_count": null,
   "metadata": {},
   "outputs": [],
   "source": [
    "print(squared_new_numbers)"
   ]
  },
  {
   "cell_type": "code",
   "execution_count": null,
   "metadata": {},
   "outputs": [],
   "source": [
    "# However, when looping through a sequence, the position index\n",
    "# and the corresponding value can be retrieved at the same time using \n",
    "# the enumerate() function\n",
    "\n",
    "\n",
    "# With a loop it is possible to create a dictionary too\n",
    "squared_new_numbers_dict = {}\n",
    "for k,num in enumerate(new_numbers):\n",
    "    print(k,num,num**2)\n",
    "    squared_new_numbers_dict[f'position_{k}'] = num**2"
   ]
  },
  {
   "cell_type": "code",
   "execution_count": null,
   "metadata": {},
   "outputs": [],
   "source": [
    "print(squared_new_numbers_dict)"
   ]
  },
  {
   "cell_type": "markdown",
   "metadata": {},
   "source": [
    "## Part 6. Comprehensions\n",
    "#### List comprehension\n",
    "\n",
    "A list comprehension provides a concise way to create lists. It consists of square brackets (like a list) containing an expression followed by a \"for loop\" clause. Then more for or if clauses. The expressions can be any data structure, data type, or object. "
   ]
  },
  {
   "cell_type": "code",
   "execution_count": null,
   "metadata": {},
   "outputs": [],
   "source": [
    "#Instead of this code\n",
    "\n",
    "#squared_new_numbers = []\n",
    "#for i in range(len(new_numbers)):\n",
    "#    squared_new_numbers.append(new_numbers[i]**2)\n",
    "\n",
    "# We will use this code:\n",
    "squared_new_numbers_2 = [numb**2 for  numb in new_numbers]\n",
    "print(squared_new_numbers_2)\n",
    "\n",
    "# Note: in list comprehensions we cannot assign values to variables"
   ]
  },
  {
   "cell_type": "code",
   "execution_count": null,
   "metadata": {},
   "outputs": [],
   "source": [
    "# We can write conditional statements to modify a list comprehension\n",
    "squared_numbers_positive = [n**2 for n in new_numbers if n > 0]\n",
    "print(squared_numbers_positive)"
   ]
  },
  {
   "cell_type": "markdown",
   "metadata": {},
   "source": [
    "#### Dictionary Comprehensions\n",
    "It is possible to generate not only list comprehensions but dictionary comprehensions.And it is also possible to have netted expressions"
   ]
  },
  {
   "cell_type": "code",
   "execution_count": null,
   "metadata": {},
   "outputs": [],
   "source": [
    "# What is going on here?\n",
    "\n",
    "polynomials = {f'x**{j}':[(i/100)**j for i in range(-100,100)] for j in range(1,4)}\n",
    "print(polynomials.keys())\n",
    "\n",
    "\n",
    "#[(i/100)**2 for i in range(-100,100)]\n",
    "\n",
    "# This one lined code can be represented as two \"for\" in six lines:\n",
    "\n",
    "#dictionary_polynomials = {}\n",
    "#for j in range(1,4):\n",
    "#    poly_list =[]\n",
    "#    for i in range(-100,100):\n",
    "#        poly_list.append((1/100)**j)\n",
    "#    dictionary_polynomials[f'x**{j}']=poly_list\n",
    "\n",
    "# We will use this polynomials dictionary later!"
   ]
  },
  {
   "cell_type": "markdown",
   "metadata": {},
   "source": [
    "## Part 7. Functions\n",
    "\n",
    "### Creating Functions\n",
    "it is possible for us to create our own functions. A function is a block of code which only runs when it is called. Usually you can pass data, known as parameters into a function and it returns data as a result. Functions are made to perform a single related action, therefore it works as reusable code. \n",
    "\n",
    "So... how can we create a function?"
   ]
  },
  {
   "cell_type": "code",
   "execution_count": null,
   "metadata": {},
   "outputs": [],
   "source": [
    "def square_root_of_a_number(number):\n",
    "    return number**(1/2)\n",
    "\n",
    "print( square_root_of_a_number(36))\n",
    "print( square_root_of_a_number(2))\n",
    "v = square_root_of_a_number(10)\n",
    "print(v)"
   ]
  },
  {
   "cell_type": "markdown",
   "metadata": {},
   "source": [
    "Parameters are specified after the function name, inside the parenthesis. It is possible to add as many parameters as you want, separating them with commas.\n",
    "If the number of parameters is unknown, we can ad a * before the parameter name"
   ]
  },
  {
   "cell_type": "code",
   "execution_count": null,
   "metadata": {},
   "outputs": [],
   "source": [
    "def min_number(*min_num):\n",
    "    # This will consider the parameter min_num as a touple of arbitrary size\n",
    "    return min(min_num)\n",
    "\n",
    "min_number(10,200, 30, 100, 2, 9 , 8 )"
   ]
  },
  {
   "cell_type": "markdown",
   "metadata": {},
   "source": [
    "We can also include a Keyword Argument, with a key=value syntax. In this case, the order of arguments does not matter"
   ]
  },
  {
   "cell_type": "code",
   "execution_count": null,
   "metadata": {},
   "outputs": [],
   "source": [
    "def quadratic_formula(a,b,c):\n",
    "    # It is good practice to do documenting strings\n",
    "    \"\"\" This is a formula to resolve quadratic expressions\"\"\"\n",
    "    num = b**2-4*a*c\n",
    "    dis = square_root_of_a_number(num)\n",
    "    return (-b + dis)/(2*a), (-b - dis)/(2*a)\n",
    "\n",
    "print(quadratic_formula(1,-5,-6)) # Order matters postionally\n",
    "\n",
    "# with kwarg (ketword argument)\n",
    "print(quadratic_formula(c=-6,a=1,b=-5)) # Order didn't matter\n",
    "\n",
    "print(quadratic_formula.__doc__)"
   ]
  },
  {
   "cell_type": "code",
   "execution_count": null,
   "metadata": {},
   "outputs": [],
   "source": [
    "# Sometimes this will be handy\n",
    "\n",
    "def characteristics(**char):\n",
    "    # names is a dictionary containing all the keyword arguments\n",
    "    for kw in char:\n",
    "        print(kw,':',char[kw])\n",
    "    print(char)\n",
    "\n",
    "characteristics(color='red', size=10, marker='o')"
   ]
  },
  {
   "cell_type": "markdown",
   "metadata": {},
   "source": [
    "##### HOMEWORK:\n",
    "- What is a lambda function?\n",
    "- What are the map(),filter(), reduce().\n",
    "- Write 3 different code snipets using these functions (be creative!).\n",
    "\n",
    "- Investigate Classes in python (this is usually used for the Object Oriented Programming Paradigm)\n",
    "\n",
    "- Investigate the PEP 8.\n",
    "- Search for list methods.\n",
    "- Search for string methods.\n",
    "- Search for methods for everything! (data structures methods will be the most helpfull)"
   ]
  },
  {
   "cell_type": "markdown",
   "metadata": {},
   "source": [
    "## Part 8. Beyond Python\n",
    "Due to it's popularity, there is a large collection of libaries that users can work with. Some of the most popular libaries (and that you will be using) are:\n",
    "\n",
    "- Matplotlib\n",
    "- Numpy\n",
    "- Pandas\n",
    "- Seaborn\n",
    "- Plotly\n",
    "- Scikit-Learn\n",
    "- Scipy\n",
    "- PyTorch\n",
    "- Tensor Flow\n",
    "\n",
    "---\n",
    "### Matplotlib\n",
    "\n",
    "Matplotlib is a 2D plotting libary.You can generate plots histograms, power spectra, bar charts, errorcharts, scatterplots etc in few lines of codes. \n",
    "\n",
    "https://matplotlib.org/tutorials/index.html\n"
   ]
  },
  {
   "cell_type": "code",
   "execution_count": null,
   "metadata": {},
   "outputs": [],
   "source": [
    "# To install a library in the current jupyter Kernell\n",
    "import sys\n",
    "!{sys.executable} -m pip install numpy"
   ]
  },
  {
   "cell_type": "code",
   "execution_count": null,
   "metadata": {},
   "outputs": [],
   "source": [
    "# This command helps us to obtain the matplotlib library ready to plot\n",
    "import matplotlib.pyplot as plt\n",
    "\n",
    "fig = plt.figure() # This creates a figure \n",
    "\n",
    "plt.plot(polynomials['x**1'], polynomials['x**2'], c='r' ) # Draw a plot\n",
    "plt.scatter(polynomials['x**1'], polynomials['x**3'], c='g', s =.5) # Draw a scatterplot\n",
    "plt.title('Polinomials') # Create a title\n",
    "\n",
    "plt.show()"
   ]
  },
  {
   "cell_type": "code",
   "execution_count": null,
   "metadata": {},
   "outputs": [],
   "source": [
    "fig = plt.figure()\n",
    "colors ='r','b','g'\n",
    "for i, element in enumerate(polynomials.keys()):\n",
    "    plt.plot(polynomials['x**1'],polynomials[element], \n",
    "             label = element, color = colors[i])\n",
    "plt.legend() # Adds a legend\n",
    "plt.grid() # Adds a grid\n",
    "plt.title('Polynomials')\n",
    "plt.xlabel('X-axis')\n",
    "plt.ylabel('Y-axis')\n",
    "\n",
    "plt.show()"
   ]
  },
  {
   "cell_type": "code",
   "execution_count": null,
   "metadata": {},
   "outputs": [],
   "source": [
    "fig = plt.figure(figsize=(5,8))\n",
    "\n",
    "\n",
    "# Create subplots \n",
    "plt.subplot(3,1,1)\n",
    "plt.plot(polynomials['x**1'], polynomials['x**1'], c='r' ) # Draw a plot\n",
    "plt.xlabel('X-axis')\n",
    "plt.ylabel('Y-axis')\n",
    "plt.title('x**1')\n",
    "plt.grid()\n",
    "\n",
    "\n",
    "plt.subplot(3,1,2)\n",
    "plt.plot(polynomials['x**1'], polynomials['x**2'], c='b' ) # Draw a plot\n",
    "plt.xlabel('X-axis')\n",
    "plt.ylabel('Y-axis')\n",
    "plt.title('x**2')\n",
    "plt.grid()\n",
    "\n",
    "\n",
    "plt.subplot(3,1,3)\n",
    "plt.plot(polynomials['x**1'], polynomials['x**3'], c='g' ) # Draw a plot\n",
    "plt.xlabel('X-axis')\n",
    "plt.ylabel('Y-axis')\n",
    "plt.title('x**3')\n",
    "plt.grid()\n",
    "\n",
    "plt.tight_layout()\n",
    "plt.show()\n",
    "\n",
    "# How can you improve this code?"
   ]
  },
  {
   "cell_type": "markdown",
   "metadata": {},
   "source": [
    "\n",
    "### Numpy\n",
    "\n",
    "NumPy is a well known general-purpose array-processing package. An extensive collection of high complexity mathematical functions make NumPy powerful to process large multi-dimensional arrays and matrices. NumPy is very useful for handling linear algebra. Other libaries use numpy at the backend for manipulating operations. It is also used as an efficient multi-dimensional container of data which allows NumPy to seamlessly and speedily integrate with a wide variety of databases.\n",
    "\n",
    "https://numpy.org/\n",
    "https://numpy.org/devdocs/user/quickstart.html#the-basics"
   ]
  },
  {
   "cell_type": "code",
   "execution_count": null,
   "metadata": {},
   "outputs": [],
   "source": [
    "import numpy as np"
   ]
  },
  {
   "cell_type": "code",
   "execution_count": null,
   "metadata": {},
   "outputs": [],
   "source": [
    "array1 = [1,2,3,4,5,6,7,8,9,10]\n",
    "array2 = [10,20,30,40,50,60,70,80,90,100]"
   ]
  },
  {
   "cell_type": "code",
   "execution_count": null,
   "metadata": {},
   "outputs": [],
   "source": [
    "array1+array2"
   ]
  },
  {
   "cell_type": "code",
   "execution_count": null,
   "metadata": {},
   "outputs": [],
   "source": [
    "# Transform them into numpy arrays\n",
    "nparray1 = np.array(array1)\n",
    "nparray2 = np.array(array2)"
   ]
  },
  {
   "cell_type": "code",
   "execution_count": null,
   "metadata": {},
   "outputs": [],
   "source": [
    "# We can treat them as vectors\n",
    "nparray1+nparray2"
   ]
  },
  {
   "cell_type": "code",
   "execution_count": null,
   "metadata": {},
   "outputs": [],
   "source": [
    "# We can do the dot product between arrays \n",
    "np.dot(nparray1,nparray2)"
   ]
  },
  {
   "cell_type": "code",
   "execution_count": null,
   "metadata": {},
   "outputs": [],
   "source": [
    "# We can create matrices of zeros\n",
    "np.zeros((3,4))"
   ]
  },
  {
   "cell_type": "code",
   "execution_count": null,
   "metadata": {},
   "outputs": [],
   "source": [
    "np.ones((4,3,2))"
   ]
  },
  {
   "cell_type": "code",
   "execution_count": null,
   "metadata": {},
   "outputs": [],
   "source": [
    "# The operation works on all the elements (operations work elementwise)\n",
    "squarred_array = nparray1**2\n",
    "squarred_array"
   ]
  },
  {
   "cell_type": "code",
   "execution_count": null,
   "metadata": {},
   "outputs": [],
   "source": [
    "# We can create a linear array\n",
    "vals = np.linspace(1,10,100)\n",
    "vals"
   ]
  },
  {
   "cell_type": "code",
   "execution_count": null,
   "metadata": {},
   "outputs": [],
   "source": [
    "# And apply a mathematical function\n",
    "sin_vals = np.sin(vals)\n",
    "sin_vals"
   ]
  },
  {
   "cell_type": "code",
   "execution_count": null,
   "metadata": {},
   "outputs": [],
   "source": [
    "# Plot the values with matplotlib\n",
    "plt.figure()\n",
    "plt.plot(vals, sin_vals)\n",
    "plt.title('Sin of x')\n",
    "plt.xlabel('x')\n",
    "plt.ylabel('Sin(x)')\n",
    "plt.show()"
   ]
  },
  {
   "cell_type": "markdown",
   "metadata": {},
   "source": [
    "### Pandas\n",
    "Pandas is a python library used for data analysis and manipulation tool with support for fast, flexible and expressive data structures. \n",
    "\n",
    "We will work most of the datasets with pandas.  \n",
    "\n",
    "https://pandas.pydata.org/"
   ]
  },
  {
   "cell_type": "code",
   "execution_count": null,
   "metadata": {},
   "outputs": [],
   "source": [
    "import pandas as pd\n",
    "\n",
    "# Pandas has two main data structures: DataFrames and Series\n",
    "# Pandas dataframes are composed of Series\n",
    "\n",
    "# We can convert a dictionary into a pandas dataframe (actually pandas\n",
    "# dataframes behave a lot like dictionarys (manipulation))\n",
    "poly_df = pd.DataFrame(polynomials)\n",
    "poly_df.head()"
   ]
  },
  {
   "cell_type": "code",
   "execution_count": null,
   "metadata": {},
   "outputs": [],
   "source": [
    "# We can add more elements to the dataframe\n",
    "poly_df['x**4'] = np.linspace(-1,1,200)**4\n",
    "poly_df['-x**2-2x**1+1'] = -poly_df['x**2']-2*poly_df['x**1']+1\n",
    "poly_df.head()"
   ]
  },
  {
   "cell_type": "code",
   "execution_count": null,
   "metadata": {},
   "outputs": [],
   "source": [
    "# Information on the dataframe datatype\n",
    "poly_df.info()"
   ]
  },
  {
   "cell_type": "code",
   "execution_count": null,
   "metadata": {},
   "outputs": [],
   "source": [
    "# Describe the basic statistical insights\n",
    "poly_df.describe()"
   ]
  },
  {
   "cell_type": "code",
   "execution_count": null,
   "metadata": {},
   "outputs": [],
   "source": [
    "# It is possible to plot easily with dataframes\n",
    "plt.figure()\n",
    "plt.plot(poly_df['x**1'],poly_df)\n",
    "plt.title('Polynomials')\n",
    "plt.show()"
   ]
  },
  {
   "cell_type": "code",
   "execution_count": null,
   "metadata": {},
   "outputs": [],
   "source": [
    "plt.figure()\n",
    "poly_df.hist()\n",
    "plt.tight_layout()\n",
    "plt.show()"
   ]
  },
  {
   "cell_type": "markdown",
   "metadata": {},
   "source": [
    "# Thanks for your time (:"
   ]
  },
  {
   "cell_type": "markdown",
   "metadata": {},
   "source": [
    "# Practice excercises: CODEWARS\n",
    "\n",
    "- https://www.codewars.com/kata/5ab6538b379d20ad880000ab\n",
    "- https://www.codewars.com/kata/51f2d1cafc9c0f745c00037d\n",
    "- https://www.codewars.com/kata/5e2596a9ad937f002e510435\n",
    "- https://www.codewars.com/kata/5d5ee4c35162d9001af7d699\n"
   ]
  }
 ],
 "metadata": {
  "kernelspec": {
   "display_name": "Python 3",
   "language": "python",
   "name": "python3"
  },
  "language_info": {
   "codemirror_mode": {
    "name": "ipython",
    "version": 3
   },
   "file_extension": ".py",
   "mimetype": "text/x-python",
   "name": "python",
   "nbconvert_exporter": "python",
   "pygments_lexer": "ipython3",
   "version": "3.7.4"
  }
 },
 "nbformat": 4,
 "nbformat_minor": 2
}
